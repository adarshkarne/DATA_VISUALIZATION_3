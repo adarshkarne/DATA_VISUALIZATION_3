{
 "cells": [
  {
   "cell_type": "code",
   "execution_count": 1,
   "id": "0fbd5bc3",
   "metadata": {},
   "outputs": [],
   "source": [
    "import pandas as pd\n",
    "import networkx as nx\n",
    "import json\n",
    "pd.set_option('display.max_columns', None)\n",
    "from networkx.readwrite import json_graph"
   ]
  },
  {
   "cell_type": "code",
   "execution_count": 2,
   "id": "46d69de1",
   "metadata": {},
   "outputs": [],
   "source": [
    "df = pd.read_csv(filepath_or_buffer='https://raw.githubusercontent.com/umassdgithub/Fall-2023-DataViz/main/Week-8-ForceSimulator/data/data_scopus.csv')"
   ]
  },
  {
   "cell_type": "code",
   "execution_count": 3,
   "id": "9796f362",
   "metadata": {},
   "outputs": [],
   "source": [
    "nodes = df['EID'].values\n",
    "df=df.fillna(0)\n",
    "# df.head(2)\n",
    "# df.shape"
   ]
  },
  {
   "cell_type": "code",
   "execution_count": 4,
   "id": "ebbe0f6b",
   "metadata": {},
   "outputs": [],
   "source": [
    "graph = nx.Graph()"
   ]
  },
  {
   "cell_type": "code",
   "execution_count": 5,
   "id": "02f09319",
   "metadata": {},
   "outputs": [],
   "source": [
    "nodes = {}\n",
    "\n",
    "for _, row in df.iterrows():\n",
    "    authors = row['Authors'].split(',')\n",
    "    author_id = row['Author(s) ID'].split(';')[:-1]\n",
    "    title = row['Title']\n",
    "    year = row['Year']\n",
    "    citations = row['Cited by']\n",
    "    publisher = row['Publisher']\n",
    "    authors_wa = row['Authors with affiliations']\n",
    "    \n",
    "    for author, aid in zip(authors, author_id):\n",
    "        if aid:\n",
    "            nodes = {\n",
    "                'id': aid,\n",
    "                'Authors': ';'.join(authors),\n",
    "                'Title': title,\n",
    "                'Year': year,\n",
    "                'Citations': citations,\n",
    "                'Publisher': publisher,\n",
    "                'Author with affiliations': authors_wa\n",
    "            }\n",
    "            graph.add_node(aid, **nodes)\n",
    "\n",
    "    "
   ]
  },
  {
   "cell_type": "code",
   "execution_count": 8,
   "id": "a0e6fb76",
   "metadata": {},
   "outputs": [],
   "source": [
    "with open(\"pub_network.json\", \"w\") as f:\n",
    "    json.dump(json_graph.node_link_data(graph), f)"
   ]
  },
  {
   "cell_type": "code",
   "execution_count": 11,
   "id": "beaa2873",
   "metadata": {},
   "outputs": [
    {
     "name": "stdout",
     "output_type": "stream",
     "text": [
      "Graph with 1552 nodes and 3049 edges\n"
     ]
    }
   ],
   "source": [
    "with open('pub_network.json', 'r') as infile:\n",
    "    pub_nw = json.load(infile)\n",
    "    \n",
    "new_nodes=[]\n",
    "# Create a NetworkX graph\n",
    "graph = nx.Graph()\n",
    "\n",
    "def get_country(x):\n",
    "    first_aff = x.split(';')[0].strip()\n",
    "    country = first_aff.split(',')[-1].strip()\n",
    "    return country\n",
    "\n",
    "\n",
    "for node_data in pub_nw['nodes']:\n",
    "    eid = node_data.get('id')\n",
    "    authors=node_data.get('Authors')\n",
    "    title = node_data.get('Title')\n",
    "    year = node_data.get('Year')\n",
    "    citations = node_data.get('Citations')\n",
    "    publisher = node_data.get('Publisher')\n",
    "\n",
    "    authors_wa = str(node_data.get('Author with affiliations'))\n",
    "\n",
    "    country = get_country(authors_wa)\n",
    "\n",
    "    graph.add_node(eid,authors=authors, title=title, year=year, citations=citations, publisher=publisher,authors_with_affiliations=authors_wa, country=country)\n",
    "    \n",
    "# Generate clusters based on authors' countries\n",
    "nw_clusters = list(nx.connected_components(graph))\n",
    "\n",
    "# Assign classes to each cluster\n",
    "class_mapping = {node: idx for idx, cluster in enumerate(nw_clusters) for node in cluster}\n",
    "nx.set_node_attributes(graph, class_mapping, 'class')\n",
    "\n",
    "# Create a dictionary to store co-authorship relationships\n",
    "for row in df.iterrows():\n",
    "    authors = row[1]['Author(s) ID'].split(';')\n",
    "    for i in range(len(authors)):\n",
    "      for j in range(i+1, len(authors)):\n",
    "        if(authors[i]!=\"\" and authors[j]!=\"\"):\n",
    "          graph.add_edge(authors[i], authors[j])\n",
    "\n",
    "# Save the data as a JSON file with proper character encoding\n",
    "coauthor_data = {'nodes': [{'id': node, **graph.nodes[node]} for node in graph.nodes()],'links': [{'source': source, 'target': target} for source, target in graph.edges()]}\n",
    "with open('nw_data.json', 'w', encoding='utf-8') as outfile:\n",
    "    json.dump(coauthor_data, outfile, ensure_ascii=False)   "
   ]
  },
  {
   "cell_type": "code",
   "execution_count": null,
   "id": "038df428",
   "metadata": {},
   "outputs": [],
   "source": []
  }
 ],
 "metadata": {
  "kernelspec": {
   "display_name": "Python 3 (ipykernel)",
   "language": "python",
   "name": "python3"
  },
  "language_info": {
   "codemirror_mode": {
    "name": "ipython",
    "version": 3
   },
   "file_extension": ".py",
   "mimetype": "text/x-python",
   "name": "python",
   "nbconvert_exporter": "python",
   "pygments_lexer": "ipython3",
   "version": "3.10.9"
  }
 },
 "nbformat": 4,
 "nbformat_minor": 5
}
